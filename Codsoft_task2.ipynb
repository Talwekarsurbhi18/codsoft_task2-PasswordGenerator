{
 "cells": [
  {
   "cell_type": "code",
   "execution_count": 1,
   "id": "0d90ad96",
   "metadata": {},
   "outputs": [
    {
     "name": "stdout",
     "output_type": "stream",
     "text": [
      "\n",
      "Welcome to the Advanced Password Generator!\n",
      "Enter the desired password length:10\n",
      "Include digits? (yes/no):no\n",
      "Include symbols? (yes/no):no\n",
      "Generated Password:,password\n"
     ]
    }
   ],
   "source": [
    "import random\n",
    "import string\n",
    "\n",
    "def generate_password(length=12,include_digits=True,include_symbols=True):\n",
    "    characters = string.ascii_letters\n",
    "    \n",
    "    if include_digits:\n",
    "        characters += string.digits\n",
    "    \n",
    "    if include_symbols:\n",
    "         characters += string.punctuation\n",
    "\n",
    "         password = ''.join(random.choice(characters) for _ in range(length))\n",
    "         return password\n",
    "\n",
    "def main():\n",
    "    print(\"\\nWelcome to the Advanced Password Generator!\")\n",
    "\n",
    "    length = int(input(\"Enter the desired password length:\"))\n",
    "    include_digits = input(\"Include digits? (yes/no):\").lower() == \"yes\"\n",
    "    include_symbols = input(\"Include symbols? (yes/no):\").lower() == \"yes\"\n",
    "\n",
    "    password = generate_password(length, include_digits, include_symbols)\n",
    "    print(\"Generated Password:,password\")\n",
    "\n",
    "if __name__ == \"__main__\":\n",
    "    main()"
   ]
  },
  {
   "cell_type": "code",
   "execution_count": null,
   "id": "f3471e1b",
   "metadata": {},
   "outputs": [],
   "source": []
  }
 ],
 "metadata": {
  "kernelspec": {
   "display_name": "Python 3 (ipykernel)",
   "language": "python",
   "name": "python3"
  },
  "language_info": {
   "codemirror_mode": {
    "name": "ipython",
    "version": 3
   },
   "file_extension": ".py",
   "mimetype": "text/x-python",
   "name": "python",
   "nbconvert_exporter": "python",
   "pygments_lexer": "ipython3",
   "version": "3.8.10"
  }
 },
 "nbformat": 4,
 "nbformat_minor": 5
}
